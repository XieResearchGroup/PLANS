{
 "cells": [
  {
   "cell_type": "markdown",
   "metadata": {},
   "source": [
    "# Get ECFP from DrugBank dataset"
   ]
  },
  {
   "cell_type": "code",
   "execution_count": 20,
   "metadata": {},
   "outputs": [],
   "source": [
    "import os\n",
    "\n",
    "import pandas as pd\n",
    "from rdkit.Chem import MolFromSmiles, MolToSmiles\n",
    "from rdkit.Chem.rdMolDescriptors import GetMorganFingerprintAsBitVect"
   ]
  },
  {
   "cell_type": "markdown",
   "metadata": {},
   "source": [
    "### Read data"
   ]
  },
  {
   "cell_type": "code",
   "execution_count": 4,
   "metadata": {},
   "outputs": [],
   "source": [
    "data_path = \"../data/drugbank_smallmolecules.txt\"\n",
    "\n",
    "data = pd.read_csv(data_path, sep=\"\\t\")"
   ]
  },
  {
   "cell_type": "markdown",
   "metadata": {},
   "source": [
    "### Print the basic information"
   ]
  },
  {
   "cell_type": "code",
   "execution_count": 11,
   "metadata": {},
   "outputs": [
    {
     "data": {
      "text/plain": [
       "Index(['DrugBank ID', 'Small molecule', 'InChI Key', 'SMILES', 'Name'], dtype='object')"
      ]
     },
     "execution_count": 11,
     "metadata": {},
     "output_type": "execute_result"
    }
   ],
   "source": [
    "data.columns"
   ]
  },
  {
   "cell_type": "code",
   "execution_count": 12,
   "metadata": {},
   "outputs": [
    {
     "data": {
      "text/plain": [
       "(9089, 5)"
      ]
     },
     "execution_count": 12,
     "metadata": {},
     "output_type": "execute_result"
    }
   ],
   "source": [
    "data.shape"
   ]
  },
  {
   "cell_type": "code",
   "execution_count": 24,
   "metadata": {},
   "outputs": [
    {
     "data": {
      "text/html": [
       "<div>\n",
       "<style scoped>\n",
       "    .dataframe tbody tr th:only-of-type {\n",
       "        vertical-align: middle;\n",
       "    }\n",
       "\n",
       "    .dataframe tbody tr th {\n",
       "        vertical-align: top;\n",
       "    }\n",
       "\n",
       "    .dataframe thead th {\n",
       "        text-align: right;\n",
       "    }\n",
       "</style>\n",
       "<table border=\"1\" class=\"dataframe\">\n",
       "  <thead>\n",
       "    <tr style=\"text-align: right;\">\n",
       "      <th></th>\n",
       "      <th>DrugBank ID</th>\n",
       "      <th>Small molecule</th>\n",
       "      <th>InChI Key</th>\n",
       "      <th>SMILES</th>\n",
       "      <th>Name</th>\n",
       "    </tr>\n",
       "  </thead>\n",
       "  <tbody>\n",
       "    <tr>\n",
       "      <th>0</th>\n",
       "      <td>DB07361</td>\n",
       "      <td>True</td>\n",
       "      <td>FAYAUAZLLLJJGH-UHFFFAOYSA-N</td>\n",
       "      <td>ClC1=CC=CC(NC(=O)NC2=NC=C(CCNC3=NC=NC4=C3SC=C4...</td>\n",
       "      <td>1-(3-chlorophenyl)-3-{5-[2-(thieno[3,2-d]pyrim...</td>\n",
       "    </tr>\n",
       "    <tr>\n",
       "      <th>1</th>\n",
       "      <td>DB13157</td>\n",
       "      <td>True</td>\n",
       "      <td>UAJTZZNRJCKXJN-UHFFFAOYSA-M</td>\n",
       "      <td>[Na+].CCCCCCCCCCCCOC(=O)CS([O-])(=O)=O</td>\n",
       "      <td>Sodium lauryl sulfoacetate</td>\n",
       "    </tr>\n",
       "    <tr>\n",
       "      <th>2</th>\n",
       "      <td>DB05577</td>\n",
       "      <td>True</td>\n",
       "      <td>OUQVKRKGTAUJQA-UHFFFAOYSA-N</td>\n",
       "      <td>OC(=O)CNC(=O)C1=C(O)C2=CC=CC=C2C(Cl)=N1</td>\n",
       "      <td>FG-2216</td>\n",
       "    </tr>\n",
       "    <tr>\n",
       "      <th>3</th>\n",
       "      <td>DB05667</td>\n",
       "      <td>True</td>\n",
       "      <td>XMAYWYJOQHXEEK-ZEQKJWHPSA-N</td>\n",
       "      <td>CC(=O)N1CCN(CC1)C1=CC=C(OC[C@@H]2CO[C@](CN3C=C...</td>\n",
       "      <td>Levoketoconazole</td>\n",
       "    </tr>\n",
       "    <tr>\n",
       "      <th>4</th>\n",
       "      <td>DB00104</td>\n",
       "      <td>True</td>\n",
       "      <td>DEQANNDTNATYII-OULOTJBUSA-N</td>\n",
       "      <td>[H][C@]1(NC(=O)[C@H](CCCCN)NC(=O)[C@@H](CC2=CN...</td>\n",
       "      <td>Octreotide</td>\n",
       "    </tr>\n",
       "  </tbody>\n",
       "</table>\n",
       "</div>"
      ],
      "text/plain": [
       "  DrugBank ID  Small molecule                    InChI Key  \\\n",
       "0     DB07361            True  FAYAUAZLLLJJGH-UHFFFAOYSA-N   \n",
       "1     DB13157            True  UAJTZZNRJCKXJN-UHFFFAOYSA-M   \n",
       "2     DB05577            True  OUQVKRKGTAUJQA-UHFFFAOYSA-N   \n",
       "3     DB05667            True  XMAYWYJOQHXEEK-ZEQKJWHPSA-N   \n",
       "4     DB00104            True  DEQANNDTNATYII-OULOTJBUSA-N   \n",
       "\n",
       "                                              SMILES  \\\n",
       "0  ClC1=CC=CC(NC(=O)NC2=NC=C(CCNC3=NC=NC4=C3SC=C4...   \n",
       "1             [Na+].CCCCCCCCCCCCOC(=O)CS([O-])(=O)=O   \n",
       "2            OC(=O)CNC(=O)C1=C(O)C2=CC=CC=C2C(Cl)=N1   \n",
       "3  CC(=O)N1CCN(CC1)C1=CC=C(OC[C@@H]2CO[C@](CN3C=C...   \n",
       "4  [H][C@]1(NC(=O)[C@H](CCCCN)NC(=O)[C@@H](CC2=CN...   \n",
       "\n",
       "                                                Name  \n",
       "0  1-(3-chlorophenyl)-3-{5-[2-(thieno[3,2-d]pyrim...  \n",
       "1                         Sodium lauryl sulfoacetate  \n",
       "2                                            FG-2216  \n",
       "3                                   Levoketoconazole  \n",
       "4                                         Octreotide  "
      ]
     },
     "execution_count": 24,
     "metadata": {},
     "output_type": "execute_result"
    }
   ],
   "source": [
    "data.head()"
   ]
  },
  {
   "cell_type": "markdown",
   "metadata": {},
   "source": [
    "### Extract SMILES from the raw data and convert to ECFP"
   ]
  },
  {
   "cell_type": "code",
   "execution_count": 26,
   "metadata": {},
   "outputs": [],
   "source": [
    "def smiles2ecfp(smiles, radius=4, bits=2048):\n",
    "    mol = MolFromSmiles(smiles)\n",
    "    if mol is None:\n",
    "        return \"\"\n",
    "    fp = GetMorganFingerprintAsBitVect(mol, radius, nBits=bits)\n",
    "    return \"\".join(map(str, list(fp)))"
   ]
  },
  {
   "cell_type": "code",
   "execution_count": 27,
   "metadata": {},
   "outputs": [
    {
     "name": "stderr",
     "output_type": "stream",
     "text": [
      "C:\\Users\\thoma\\AppData\\Local\\conda\\conda\\envs\\playground\\lib\\site-packages\\ipykernel_launcher.py:2: SettingWithCopyWarning: \n",
      "A value is trying to be set on a copy of a slice from a DataFrame.\n",
      "Try using .loc[row_indexer,col_indexer] = value instead\n",
      "\n",
      "See the caveats in the documentation: http://pandas.pydata.org/pandas-docs/stable/indexing.html#indexing-view-versus-copy\n",
      "  \n"
     ]
    },
    {
     "data": {
      "text/html": [
       "<div>\n",
       "<style scoped>\n",
       "    .dataframe tbody tr th:only-of-type {\n",
       "        vertical-align: middle;\n",
       "    }\n",
       "\n",
       "    .dataframe tbody tr th {\n",
       "        vertical-align: top;\n",
       "    }\n",
       "\n",
       "    .dataframe thead th {\n",
       "        text-align: right;\n",
       "    }\n",
       "</style>\n",
       "<table border=\"1\" class=\"dataframe\">\n",
       "  <thead>\n",
       "    <tr style=\"text-align: right;\">\n",
       "      <th></th>\n",
       "      <th>DrugBank ID</th>\n",
       "      <th>SMILES</th>\n",
       "      <th>ECFP</th>\n",
       "    </tr>\n",
       "  </thead>\n",
       "  <tbody>\n",
       "    <tr>\n",
       "      <th>0</th>\n",
       "      <td>DB07361</td>\n",
       "      <td>ClC1=CC=CC(NC(=O)NC2=NC=C(CCNC3=NC=NC4=C3SC=C4...</td>\n",
       "      <td>0000000000000010000000000000000000000000000001...</td>\n",
       "    </tr>\n",
       "    <tr>\n",
       "      <th>1</th>\n",
       "      <td>DB13157</td>\n",
       "      <td>[Na+].CCCCCCCCCCCCOC(=O)CS([O-])(=O)=O</td>\n",
       "      <td>0000000000000100000000000000000000001000000000...</td>\n",
       "    </tr>\n",
       "    <tr>\n",
       "      <th>2</th>\n",
       "      <td>DB05577</td>\n",
       "      <td>OC(=O)CNC(=O)C1=C(O)C2=CC=CC=C2C(Cl)=N1</td>\n",
       "      <td>0000000000000000000000000000000000000000000000...</td>\n",
       "    </tr>\n",
       "    <tr>\n",
       "      <th>3</th>\n",
       "      <td>DB05667</td>\n",
       "      <td>CC(=O)N1CCN(CC1)C1=CC=C(OC[C@@H]2CO[C@](CN3C=C...</td>\n",
       "      <td>0000000000000000000000000000000000000100001000...</td>\n",
       "    </tr>\n",
       "    <tr>\n",
       "      <th>4</th>\n",
       "      <td>DB00104</td>\n",
       "      <td>[H][C@]1(NC(=O)[C@H](CCCCN)NC(=O)[C@@H](CC2=CN...</td>\n",
       "      <td>0100000000000000000000000000000010000000000000...</td>\n",
       "    </tr>\n",
       "  </tbody>\n",
       "</table>\n",
       "</div>"
      ],
      "text/plain": [
       "  DrugBank ID                                             SMILES  \\\n",
       "0     DB07361  ClC1=CC=CC(NC(=O)NC2=NC=C(CCNC3=NC=NC4=C3SC=C4...   \n",
       "1     DB13157             [Na+].CCCCCCCCCCCCOC(=O)CS([O-])(=O)=O   \n",
       "2     DB05577            OC(=O)CNC(=O)C1=C(O)C2=CC=CC=C2C(Cl)=N1   \n",
       "3     DB05667  CC(=O)N1CCN(CC1)C1=CC=C(OC[C@@H]2CO[C@](CN3C=C...   \n",
       "4     DB00104  [H][C@]1(NC(=O)[C@H](CCCCN)NC(=O)[C@@H](CC2=CN...   \n",
       "\n",
       "                                                ECFP  \n",
       "0  0000000000000010000000000000000000000000000001...  \n",
       "1  0000000000000100000000000000000000001000000000...  \n",
       "2  0000000000000000000000000000000000000000000000...  \n",
       "3  0000000000000000000000000000000000000100001000...  \n",
       "4  0100000000000000000000000000000010000000000000...  "
      ]
     },
     "execution_count": 27,
     "metadata": {},
     "output_type": "execute_result"
    }
   ],
   "source": [
    "extracted_data = data[[\"DrugBank ID\", \"SMILES\"]]\n",
    "extracted_data[\"ECFP\"] = extracted_data[\"SMILES\"].map(smiles2ecfp)\n",
    "extracted_data.head()"
   ]
  },
  {
   "cell_type": "markdown",
   "metadata": {},
   "source": [
    "### Drop the data that the SMILES strings cannot be loaded by RDKit"
   ]
  },
  {
   "cell_type": "code",
   "execution_count": 37,
   "metadata": {},
   "outputs": [
    {
     "name": "stderr",
     "output_type": "stream",
     "text": [
      "C:\\Users\\thoma\\AppData\\Local\\conda\\conda\\envs\\playground\\lib\\site-packages\\pandas\\core\\frame.py:3930: SettingWithCopyWarning: \n",
      "A value is trying to be set on a copy of a slice from a DataFrame\n",
      "\n",
      "See the caveats in the documentation: http://pandas.pydata.org/pandas-docs/stable/indexing.html#indexing-view-versus-copy\n",
      "  errors=errors)\n"
     ]
    },
    {
     "data": {
      "text/plain": [
       "(9072, 3)"
      ]
     },
     "execution_count": 37,
     "metadata": {},
     "output_type": "execute_result"
    }
   ],
   "source": [
    "extracted_data.drop(extracted_data[extracted_data[\"ECFP\"]==\"\"].index, inplace=True)\n",
    "extracted_data.shape"
   ]
  },
  {
   "cell_type": "markdown",
   "metadata": {},
   "source": [
    "### Write data out"
   ]
  },
  {
   "cell_type": "code",
   "execution_count": 38,
   "metadata": {},
   "outputs": [],
   "source": [
    "extracted_data.to_csv(\"../data/DrugBank_smiles_fp.csv\")"
   ]
  },
  {
   "cell_type": "markdown",
   "metadata": {},
   "source": [
    "## The dataset has 90"
   ]
  }
 ],
 "metadata": {
  "kernelspec": {
   "display_name": "Python 3",
   "language": "python",
   "name": "python3"
  },
  "language_info": {
   "codemirror_mode": {
    "name": "ipython",
    "version": 3
   },
   "file_extension": ".py",
   "mimetype": "text/x-python",
   "name": "python",
   "nbconvert_exporter": "python",
   "pygments_lexer": "ipython3",
   "version": "3.6.9"
  }
 },
 "nbformat": 4,
 "nbformat_minor": 2
}
