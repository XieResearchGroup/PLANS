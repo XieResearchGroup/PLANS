{
 "cells": [
  {
   "cell_type": "code",
   "execution_count": 1,
   "metadata": {},
   "outputs": [],
   "source": [
    "import pandas as pd"
   ]
  },
  {
   "cell_type": "code",
   "execution_count": 3,
   "metadata": {},
   "outputs": [],
   "source": [
    "df = pd.read_csv(\"../data/fromraw_cid_inchi_smiles_fp_labels.csv\")"
   ]
  },
  {
   "cell_type": "code",
   "execution_count": 4,
   "metadata": {},
   "outputs": [
    {
     "output_type": "execute_result",
     "data": {
      "text/plain": "   PUBCHEM_RESULT_TAG  PUBCHEM_CID  \\\n0                   1      6602638   \n1                   2       644510   \n2                   3      1960010   \n3                   4       644675   \n4                   5       644851   \n\n                                               InChI  \\\n0  InChI=1S/C16H24ClN3O.ClH/c1-3-5-16(21)18-13-6-...   \n1  InChI=1S/C23H23FN6O4/c24-18-4-2-15(3-5-18)11-3...   \n2  InChI=1S/C17H18N2O3S2/c1-3-18-12-8-5-4-7-11(12...   \n3  InChI=1S/C13H9NO5S3/c1-8(15)14(22(17,18)12-3-2...   \n4  InChI=1S/C14H10ClN3/c15-12-9-5-4-8-11(12)14-16...   \n\n                                    canonical_SMILES  \\\n0             CCCC(=O)Nc1ccc(N2CCN(CC)CC2)c(Cl)c1.Cl   \n1  O=c1[nH]c2cc3c(cc2cc1CN(CCCO)Cc1nnnn1Cc1ccc(F)...   \n2         CCN1C(=O)C(=C2SC(=S)N(CCCOC)C2=O)c2ccccc21   \n3         CC(=O)N(c1ccc2oc(=O)sc2c1)S(=O)(=O)c1cccs1   \n4                   Clc1ccccc1-c1nc(-c2ccccc2)n[nH]1   \n\n                                     isomeric_SMILES  \\\n0          CCCC(=O)NC1=CC(=C(C=C1)N2CCN(CC2)CC)Cl.Cl   \n1  C1OC2=C(O1)C=C3C(=C2)C=C(C(=O)N3)CN(CCCO)CC4=N...   \n2  CCN1C2=CC=CC=C2/C(=C/3\\C(=O)N(C(=S)S3)CCCOC)/C1=O   \n3  CC(=O)N(C1=CC2=C(C=C1)OC(=O)S2)S(=O)(=O)C3=CC=CS3   \n4              C1=CC=C(C=C1)C2=NNC(=N2)C3=CC=CC=C3Cl   \n\n                                                ECFP  Label 1a2 3a4 2c9 2c19  \\\n0  0000000000000010000000000000000000100000010000...  00_0_   0   0   _    0   \n1  0000000000000000000000000001000000000000000000...  11___   1   1   _    _   \n2  0000100000000100000000000000000000100000000000...  1_1_0   1   _   1    _   \n3  0000000000000010000000000000000000000000000000...  11_10   1   1   _    1   \n4  0100000000000000000000000000000000000000000000...  1_11_   1   _   1    1   \n\n  2d6  \n0   _  \n1   _  \n2   0  \n3   0  \n4   _  ",
      "text/html": "<div>\n<style scoped>\n    .dataframe tbody tr th:only-of-type {\n        vertical-align: middle;\n    }\n\n    .dataframe tbody tr th {\n        vertical-align: top;\n    }\n\n    .dataframe thead th {\n        text-align: right;\n    }\n</style>\n<table border=\"1\" class=\"dataframe\">\n  <thead>\n    <tr style=\"text-align: right;\">\n      <th></th>\n      <th>PUBCHEM_RESULT_TAG</th>\n      <th>PUBCHEM_CID</th>\n      <th>InChI</th>\n      <th>canonical_SMILES</th>\n      <th>isomeric_SMILES</th>\n      <th>ECFP</th>\n      <th>Label</th>\n      <th>1a2</th>\n      <th>3a4</th>\n      <th>2c9</th>\n      <th>2c19</th>\n      <th>2d6</th>\n    </tr>\n  </thead>\n  <tbody>\n    <tr>\n      <th>0</th>\n      <td>1</td>\n      <td>6602638</td>\n      <td>InChI=1S/C16H24ClN3O.ClH/c1-3-5-16(21)18-13-6-...</td>\n      <td>CCCC(=O)Nc1ccc(N2CCN(CC)CC2)c(Cl)c1.Cl</td>\n      <td>CCCC(=O)NC1=CC(=C(C=C1)N2CCN(CC2)CC)Cl.Cl</td>\n      <td>0000000000000010000000000000000000100000010000...</td>\n      <td>00_0_</td>\n      <td>0</td>\n      <td>0</td>\n      <td>_</td>\n      <td>0</td>\n      <td>_</td>\n    </tr>\n    <tr>\n      <th>1</th>\n      <td>2</td>\n      <td>644510</td>\n      <td>InChI=1S/C23H23FN6O4/c24-18-4-2-15(3-5-18)11-3...</td>\n      <td>O=c1[nH]c2cc3c(cc2cc1CN(CCCO)Cc1nnnn1Cc1ccc(F)...</td>\n      <td>C1OC2=C(O1)C=C3C(=C2)C=C(C(=O)N3)CN(CCCO)CC4=N...</td>\n      <td>0000000000000000000000000001000000000000000000...</td>\n      <td>11___</td>\n      <td>1</td>\n      <td>1</td>\n      <td>_</td>\n      <td>_</td>\n      <td>_</td>\n    </tr>\n    <tr>\n      <th>2</th>\n      <td>3</td>\n      <td>1960010</td>\n      <td>InChI=1S/C17H18N2O3S2/c1-3-18-12-8-5-4-7-11(12...</td>\n      <td>CCN1C(=O)C(=C2SC(=S)N(CCCOC)C2=O)c2ccccc21</td>\n      <td>CCN1C2=CC=CC=C2/C(=C/3\\C(=O)N(C(=S)S3)CCCOC)/C1=O</td>\n      <td>0000100000000100000000000000000000100000000000...</td>\n      <td>1_1_0</td>\n      <td>1</td>\n      <td>_</td>\n      <td>1</td>\n      <td>_</td>\n      <td>0</td>\n    </tr>\n    <tr>\n      <th>3</th>\n      <td>4</td>\n      <td>644675</td>\n      <td>InChI=1S/C13H9NO5S3/c1-8(15)14(22(17,18)12-3-2...</td>\n      <td>CC(=O)N(c1ccc2oc(=O)sc2c1)S(=O)(=O)c1cccs1</td>\n      <td>CC(=O)N(C1=CC2=C(C=C1)OC(=O)S2)S(=O)(=O)C3=CC=CS3</td>\n      <td>0000000000000010000000000000000000000000000000...</td>\n      <td>11_10</td>\n      <td>1</td>\n      <td>1</td>\n      <td>_</td>\n      <td>1</td>\n      <td>0</td>\n    </tr>\n    <tr>\n      <th>4</th>\n      <td>5</td>\n      <td>644851</td>\n      <td>InChI=1S/C14H10ClN3/c15-12-9-5-4-8-11(12)14-16...</td>\n      <td>Clc1ccccc1-c1nc(-c2ccccc2)n[nH]1</td>\n      <td>C1=CC=C(C=C1)C2=NNC(=N2)C3=CC=CC=C3Cl</td>\n      <td>0100000000000000000000000000000000000000000000...</td>\n      <td>1_11_</td>\n      <td>1</td>\n      <td>_</td>\n      <td>1</td>\n      <td>1</td>\n      <td>_</td>\n    </tr>\n  </tbody>\n</table>\n</div>"
     },
     "metadata": {},
     "execution_count": 4
    }
   ],
   "source": [
    "df.head()"
   ]
  },
  {
   "cell_type": "code",
   "execution_count": 6,
   "metadata": {},
   "outputs": [
    {
     "output_type": "execute_result",
     "data": {
      "text/plain": "(17121, 12)"
     },
     "metadata": {},
     "execution_count": 6
    }
   ],
   "source": [
    "df.shape"
   ]
  },
  {
   "cell_type": "code",
   "execution_count": 10,
   "metadata": {},
   "outputs": [
    {
     "output_type": "stream",
     "name": "stdout",
     "text": "Partial: 11959, full: 5162\n"
    }
   ],
   "source": [
    "pc = 0\n",
    "fc = 0\n",
    "for row in df.iterrows():\n",
    "    if \"_\" in row[1][\"Label\"]:\n",
    "        pc += 1\n",
    "    else:\n",
    "        fc += 1\n",
    "print(f\"Partial: {pc}, full: {fc}\")"
   ]
  },
  {
   "cell_type": "code",
   "execution_count": 11,
   "metadata": {},
   "outputs": [],
   "source": [
    "dbdf = pd.read_csv(\"../data/DrugBank_smiles_fp_filtered.csv\")"
   ]
  },
  {
   "cell_type": "code",
   "execution_count": 12,
   "metadata": {},
   "outputs": [
    {
     "output_type": "execute_result",
     "data": {
      "text/plain": "(8042, 5)"
     },
     "metadata": {},
     "execution_count": 12
    }
   ],
   "source": [
    "dbdf.shape"
   ]
  },
  {
   "cell_type": "code",
   "execution_count": null,
   "metadata": {},
   "outputs": [],
   "source": []
  }
 ],
 "metadata": {
  "language_info": {
   "codemirror_mode": {
    "name": "ipython",
    "version": 3
   },
   "file_extension": ".py",
   "mimetype": "text/x-python",
   "name": "python",
   "nbconvert_exporter": "python",
   "pygments_lexer": "ipython3",
   "version": "3.6.9-final"
  },
  "orig_nbformat": 2,
  "kernelspec": {
   "name": "ca2090ec-da29-42da-892a-0ca00f0c5f30",
   "display_name": "'Python Interactive'"
  }
 },
 "nbformat": 4,
 "nbformat_minor": 2
}