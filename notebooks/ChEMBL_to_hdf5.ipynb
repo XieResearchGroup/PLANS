{
 "cells": [
  {
   "cell_type": "code",
   "execution_count": 15,
   "metadata": {},
   "outputs": [],
   "source": [
    "import h5py\n",
    "import pandas as pd\n",
    "import numpy as np"
   ]
  },
  {
   "cell_type": "code",
   "execution_count": 2,
   "metadata": {},
   "outputs": [],
   "source": [
    "chembl = pd.read_csv(\"../data/ChEMBL24_smiles_fp.csv\")"
   ]
  },
  {
   "cell_type": "code",
   "execution_count": 3,
   "metadata": {},
   "outputs": [
    {
     "data": {
      "text/plain": [
       "(1739165, 4)"
      ]
     },
     "execution_count": 3,
     "metadata": {},
     "output_type": "execute_result"
    }
   ],
   "source": [
    "chembl.shape"
   ]
  },
  {
   "cell_type": "code",
   "execution_count": 4,
   "metadata": {},
   "outputs": [
    {
     "data": {
      "text/html": [
       "<div>\n",
       "<style scoped>\n",
       "    .dataframe tbody tr th:only-of-type {\n",
       "        vertical-align: middle;\n",
       "    }\n",
       "\n",
       "    .dataframe tbody tr th {\n",
       "        vertical-align: top;\n",
       "    }\n",
       "\n",
       "    .dataframe thead th {\n",
       "        text-align: right;\n",
       "    }\n",
       "</style>\n",
       "<table border=\"1\" class=\"dataframe\">\n",
       "  <thead>\n",
       "    <tr style=\"text-align: right;\">\n",
       "      <th></th>\n",
       "      <th>Unnamed: 0</th>\n",
       "      <th>ChEMBL_ID</th>\n",
       "      <th>SMILES</th>\n",
       "      <th>ECFP</th>\n",
       "    </tr>\n",
       "  </thead>\n",
       "  <tbody>\n",
       "    <tr>\n",
       "      <th>1739160</th>\n",
       "      <td>1739191</td>\n",
       "      <td>CHEMBL3989972</td>\n",
       "      <td>COC1=CN(N=C(C1=O)c2ccnn2c3ccccc3)c4ccc(cc4F)n...</td>\n",
       "      <td>0000000000000000000000000000000000000000000100...</td>\n",
       "    </tr>\n",
       "    <tr>\n",
       "      <th>1739161</th>\n",
       "      <td>1739192</td>\n",
       "      <td>CHEMBL3989973</td>\n",
       "      <td>Cl.FC(F)(F)c1ccc(CNc2ccc(Cc3c[nH]c4ncc(Cl)cc3...</td>\n",
       "      <td>0000000000001000000000000000000000000000000000...</td>\n",
       "    </tr>\n",
       "    <tr>\n",
       "      <th>1739162</th>\n",
       "      <td>1739193</td>\n",
       "      <td>CHEMBL3989974</td>\n",
       "      <td>CC(C)(O\\N=C(/C(=O)N[C@H]1[C@H]2SCC(=C(N2C1=O)...</td>\n",
       "      <td>1000011010000000000000000000001000000000000000...</td>\n",
       "    </tr>\n",
       "    <tr>\n",
       "      <th>1739163</th>\n",
       "      <td>1739194</td>\n",
       "      <td>CHEMBL3989975</td>\n",
       "      <td>CC[C@H]1C[C@H](C[C@@H](O[C@@H]2O[C@H](CO)[C@H...</td>\n",
       "      <td>0110000000000101000000000000010000000000010000...</td>\n",
       "    </tr>\n",
       "    <tr>\n",
       "      <th>1739164</th>\n",
       "      <td>1739195</td>\n",
       "      <td>CHEMBL3990047</td>\n",
       "      <td>CNc1ncc(cc1C)c2ccc3C(=O)C(=CN(C4CC4)c3c2C)C(=O)O</td>\n",
       "      <td>0000000000001000000000000000100000000000010000...</td>\n",
       "    </tr>\n",
       "  </tbody>\n",
       "</table>\n",
       "</div>"
      ],
      "text/plain": [
       "         Unnamed: 0      ChEMBL_ID  \\\n",
       "1739160     1739191  CHEMBL3989972   \n",
       "1739161     1739192  CHEMBL3989973   \n",
       "1739162     1739193  CHEMBL3989974   \n",
       "1739163     1739194  CHEMBL3989975   \n",
       "1739164     1739195  CHEMBL3990047   \n",
       "\n",
       "                                                    SMILES  \\\n",
       "1739160   COC1=CN(N=C(C1=O)c2ccnn2c3ccccc3)c4ccc(cc4F)n...   \n",
       "1739161   Cl.FC(F)(F)c1ccc(CNc2ccc(Cc3c[nH]c4ncc(Cl)cc3...   \n",
       "1739162   CC(C)(O\\N=C(/C(=O)N[C@H]1[C@H]2SCC(=C(N2C1=O)...   \n",
       "1739163   CC[C@H]1C[C@H](C[C@@H](O[C@@H]2O[C@H](CO)[C@H...   \n",
       "1739164   CNc1ncc(cc1C)c2ccc3C(=O)C(=CN(C4CC4)c3c2C)C(=O)O   \n",
       "\n",
       "                                                      ECFP  \n",
       "1739160  0000000000000000000000000000000000000000000100...  \n",
       "1739161  0000000000001000000000000000000000000000000000...  \n",
       "1739162  1000011010000000000000000000001000000000000000...  \n",
       "1739163  0110000000000101000000000000010000000000010000...  \n",
       "1739164  0000000000001000000000000000100000000000010000...  "
      ]
     },
     "execution_count": 4,
     "metadata": {},
     "output_type": "execute_result"
    }
   ],
   "source": [
    "chembl.tail()"
   ]
  },
  {
   "cell_type": "code",
   "execution_count": 5,
   "metadata": {},
   "outputs": [],
   "source": [
    "h5f = h5py.File(\"../data/ChEMBL24.hdf5\", \"w\")"
   ]
  },
  {
   "cell_type": "code",
   "execution_count": 7,
   "metadata": {},
   "outputs": [],
   "source": [
    "root_gp = h5f.create_group(\"/ChEMBL\")"
   ]
  },
  {
   "cell_type": "code",
   "execution_count": 8,
   "metadata": {},
   "outputs": [],
   "source": [
    "dt = h5py.string_dtype(encoding=\"utf-8\")\n",
    "chembl_id = root_gp.create_dataset(\"ChEMBL_ID\", data=chembl[\"ChEMBL_ID\"].astype(bytes), dtype=dt)"
   ]
  },
  {
   "cell_type": "code",
   "execution_count": 14,
   "metadata": {},
   "outputs": [],
   "source": [
    "smiles = root_gp.create_dataset(\"SMILES\", data=chembl[\" SMILES\"].astype(bytes), dtype=dt)"
   ]
  },
  {
   "cell_type": "code",
   "execution_count": 23,
   "metadata": {},
   "outputs": [],
   "source": [
    "np_ecfp = chembl[\"ECFP\"].map(lambda x: np.fromiter(x, dtype=int))"
   ]
  },
  {
   "cell_type": "code",
   "execution_count": 39,
   "metadata": {},
   "outputs": [],
   "source": [
    "ecfp =root_gp.create_dataset(\"ECFP\", data=np.stack(list(np_ecfp), axis=0))"
   ]
  },
  {
   "cell_type": "code",
   "execution_count": 40,
   "metadata": {},
   "outputs": [],
   "source": [
    "h5f.close()"
   ]
  },
  {
   "cell_type": "code",
   "execution_count": null,
   "metadata": {},
   "outputs": [],
   "source": []
  }
 ],
 "metadata": {
  "kernelspec": {
   "display_name": "Python 3",
   "language": "python",
   "name": "python3"
  },
  "language_info": {
   "codemirror_mode": {
    "name": "ipython",
    "version": 3
   },
   "file_extension": ".py",
   "mimetype": "text/x-python",
   "name": "python",
   "nbconvert_exporter": "python",
   "pygments_lexer": "ipython3",
   "version": "3.6.9"
  }
 },
 "nbformat": 4,
 "nbformat_minor": 4
}
