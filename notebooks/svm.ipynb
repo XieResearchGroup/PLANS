{
 "cells": [
  {
   "cell_type": "code",
   "execution_count": 20,
   "metadata": {},
   "outputs": [],
   "source": [
    "from functools import partial\n",
    "from itertools import product\n",
    "\n",
    "from sklearn.tree import DecisionTreeClassifier\n",
    "from sklearn.metrics import accuracy_score\n",
    "from sklearn.ensemble import AdaBoostClassifier\n",
    "from sklearn.model_selection import cross_validate\n",
    "from sklearn.svm import SVC\n",
    "import numpy as np\n",
    "\n",
    "from utils.data_loaders.cvs_loader import CVSLoader\n",
    "from utils.label_convertors import convert2vec"
   ]
  },
  {
   "cell_type": "code",
   "execution_count": 2,
   "metadata": {},
   "outputs": [],
   "source": [
    "DATAPATH = \"../data/fromraw_cid_inchi_smiles_fp_labels_onehots.csv\""
   ]
  },
  {
   "cell_type": "code",
   "execution_count": 12,
   "metadata": {},
   "outputs": [],
   "source": [
    "data_loader = CVSLoader(DATAPATH)\n",
    "x_train, y_train, x_test, y_test = data_loader.load_data(\n",
    "    [\"ECFP\", \"onehot_label\"],\n",
    "    ratio=1,\n",
    "    shuffle=True\n",
    ")"
   ]
  },
  {
   "cell_type": "code",
   "execution_count": 15,
   "metadata": {},
   "outputs": [],
   "source": [
    "convert2vec_float = partial(convert2vec, dtype=float)\n",
    "x_train, y_train = list(\n",
    "    map(convert2vec_float, [x_train, y_train]))\n",
    "y_train = np.argmax(y_train, axis=1)"
   ]
  },
  {
   "cell_type": "code",
   "execution_count": 16,
   "metadata": {},
   "outputs": [
    {
     "data": {
      "text/plain": [
       "(5162, 2048)"
      ]
     },
     "execution_count": 16,
     "metadata": {},
     "output_type": "execute_result"
    }
   ],
   "source": [
    "x_train.shape"
   ]
  },
  {
   "cell_type": "code",
   "execution_count": 17,
   "metadata": {},
   "outputs": [
    {
     "data": {
      "text/plain": [
       "(5162,)"
      ]
     },
     "execution_count": 17,
     "metadata": {},
     "output_type": "execute_result"
    }
   ],
   "source": [
    "y_train.shape"
   ]
  },
  {
   "cell_type": "code",
   "execution_count": 10,
   "metadata": {},
   "outputs": [
    {
     "name": "stdout",
     "output_type": "stream",
     "text": [
      "C: 0.1, gamma: auto, score: 0.42027114267269206\n",
      "C: 0.1, gamma: scale, score: 0.42027114267269206\n",
      "C: 0.2, gamma: auto, score: 0.42027114267269206\n",
      "C: 0.2, gamma: scale, score: 0.4364105874757908\n",
      "C: 0.3, gamma: auto, score: 0.42027114267269206\n",
      "C: 0.3, gamma: scale, score: 0.4564234990316333\n",
      "C: 0.4, gamma: auto, score: 0.42027114267269206\n",
      "C: 0.4, gamma: scale, score: 0.46675274370561654\n",
      "C: 0.5, gamma: auto, score: 0.42027114267269206\n",
      "C: 0.5, gamma: scale, score: 0.4854744996772111\n",
      "C: 0.6, gamma: auto, score: 0.42027114267269206\n",
      "C: 0.6, gamma: scale, score: 0.4970948999354422\n",
      "C: 0.7, gamma: auto, score: 0.42027114267269206\n",
      "C: 0.7, gamma: scale, score: 0.5041962556488057\n",
      "C: 0.8, gamma: auto, score: 0.42156229825693997\n",
      "C: 0.8, gamma: scale, score: 0.5112976113621691\n",
      "C: 0.9, gamma: auto, score: 0.42479018721755973\n",
      "C: 0.9, gamma: scale, score: 0.5145255003227889\n",
      "C: 1.0, gamma: auto, score: 0.42479018721755973\n",
      "C: 1.0, gamma: scale, score: 0.5183989670755326\n"
     ]
    }
   ],
   "source": [
    "results = dict()\n",
    "for c, gamma in product(np.arange(1, 11)/10, [\"auto\", \"scale\"]):\n",
    "    clf = SVC(C=c, gamma=gamma)\n",
    "    clf.fit(x_train, y_train)\n",
    "    score = clf.score(x_test, y_test)\n",
    "    print(f\"C: {c}, gamma: {gamma}, score: {score}\")\n",
    "    results[str(c)+\",\"+str(gamma)] = score"
   ]
  },
  {
   "cell_type": "code",
   "execution_count": 7,
   "metadata": {},
   "outputs": [
    {
     "data": {
      "text/plain": [
       "array([0.1, 0.2, 0.3, 0.4, 0.5, 0.6, 0.7, 0.8, 0.9, 1. ])"
      ]
     },
     "execution_count": 7,
     "metadata": {},
     "output_type": "execute_result"
    }
   ],
   "source": [
    "np.arange(1, 11) / 10"
   ]
  },
  {
   "cell_type": "code",
   "execution_count": 21,
   "metadata": {},
   "outputs": [
    {
     "name": "stderr",
     "output_type": "stream",
     "text": [
      "C:\\Users\\thoma\\AppData\\Local\\conda\\conda\\envs\\playground\\lib\\site-packages\\sklearn\\model_selection\\_split.py:667: UserWarning: The least populated class in y has only 1 members, which is less than n_splits=5.\n",
      "  % (min_groups, self.n_splits)), UserWarning)\n"
     ]
    }
   ],
   "source": [
    "svc_clf = SVC(C=1.0, gamma='scale')\n",
    "cv_results = cross_validate(svc_clf, x_train, y_train, cv=5)"
   ]
  },
  {
   "cell_type": "code",
   "execution_count": 22,
   "metadata": {},
   "outputs": [
    {
     "name": "stdout",
     "output_type": "stream",
     "text": [
      "{'fit_time': array([85.0697248 , 83.73526287, 84.51744199, 85.33605337, 85.3516624 ]), 'score_time': array([7.06337166, 7.02187681, 7.0462327 , 7.06263924, 7.00557494]), 'test_score': array([0.55759923, 0.54888674, 0.54748062, 0.53972868, 0.53197674])}\n"
     ]
    }
   ],
   "source": [
    "print(cv_results)"
   ]
  },
  {
   "cell_type": "code",
   "execution_count": null,
   "metadata": {},
   "outputs": [],
   "source": []
  }
 ],
 "metadata": {
  "kernelspec": {
   "display_name": "Python 3.6.9 64-bit ('playground': conda)",
   "language": "python",
   "name": "python36964bitplaygroundconda3a42ba2689cb4827a840ce2c3efb16bd"
  },
  "language_info": {
   "codemirror_mode": {
    "name": "ipython",
    "version": 3
   },
   "file_extension": ".py",
   "mimetype": "text/x-python",
   "name": "python",
   "nbconvert_exporter": "python",
   "pygments_lexer": "ipython3",
   "version": "3.6.9"
  }
 },
 "nbformat": 4,
 "nbformat_minor": 2
}
