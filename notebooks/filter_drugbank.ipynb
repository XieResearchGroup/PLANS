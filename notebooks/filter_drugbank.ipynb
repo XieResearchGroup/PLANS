{
 "cells": [
  {
   "cell_type": "markdown",
   "metadata": {},
   "source": [
    "## Remove entries in DrugBank that are similar to CYP450 dataset"
   ]
  },
  {
   "cell_type": "code",
   "execution_count": 18,
   "metadata": {},
   "outputs": [],
   "source": [
    "import sys\n",
    "sys.path.append(\"..\")\n",
    "import itertools\n",
    "\n",
    "import pandas as pd\n",
    "from rdkit import DataStructs\n",
    "from rdkit import Chem\n",
    "from rdkit.Chem.rdMolDescriptors import GetMorganFingerprintAsBitVect\n",
    "from tqdm import tqdm"
   ]
  },
  {
   "cell_type": "markdown",
   "metadata": {},
   "source": [
    "### Load datasets"
   ]
  },
  {
   "cell_type": "code",
   "execution_count": 5,
   "metadata": {},
   "outputs": [],
   "source": [
    "cyp_data_path = \"../data/fromraw_cid_inchi_smiles_fp_labels_onehots.csv\"\n",
    "cyp_df = pd.read_csv(cyp_data_path)"
   ]
  },
  {
   "cell_type": "code",
   "execution_count": 7,
   "metadata": {},
   "outputs": [],
   "source": [
    "drugbank_data_path = \"../data/DrugBank_smiles_fp.csv\"\n",
    "drugbank_df = pd.read_csv(drugbank_data_path)"
   ]
  },
  {
   "cell_type": "code",
   "execution_count": 8,
   "metadata": {},
   "outputs": [
    {
     "data": {
      "text/html": [
       "<div>\n",
       "<style scoped>\n",
       "    .dataframe tbody tr th:only-of-type {\n",
       "        vertical-align: middle;\n",
       "    }\n",
       "\n",
       "    .dataframe tbody tr th {\n",
       "        vertical-align: top;\n",
       "    }\n",
       "\n",
       "    .dataframe thead th {\n",
       "        text-align: right;\n",
       "    }\n",
       "</style>\n",
       "<table border=\"1\" class=\"dataframe\">\n",
       "  <thead>\n",
       "    <tr style=\"text-align: right;\">\n",
       "      <th></th>\n",
       "      <th>Unnamed: 0</th>\n",
       "      <th>PUBCHEM_RESULT_TAG</th>\n",
       "      <th>PUBCHEM_CID</th>\n",
       "      <th>InChI</th>\n",
       "      <th>canonical_SMILES</th>\n",
       "      <th>isomeric_SMILES</th>\n",
       "      <th>ECFP</th>\n",
       "      <th>Label</th>\n",
       "      <th>1a2</th>\n",
       "      <th>3a4</th>\n",
       "      <th>2c9</th>\n",
       "      <th>2c19</th>\n",
       "      <th>2d6</th>\n",
       "      <th>onehot_label</th>\n",
       "    </tr>\n",
       "  </thead>\n",
       "  <tbody>\n",
       "    <tr>\n",
       "      <th>0</th>\n",
       "      <td>0</td>\n",
       "      <td>1</td>\n",
       "      <td>6602638</td>\n",
       "      <td>InChI=1S/C16H24ClN3O.ClH/c1-3-5-16(21)18-13-6-...</td>\n",
       "      <td>CCCC(=O)Nc1ccc(N2CCN(CC)CC2)c(Cl)c1.Cl</td>\n",
       "      <td>CCCC(=O)NC1=CC(=C(C=C1)N2CCN(CC2)CC)Cl.Cl</td>\n",
       "      <td>0000000000000010000000000000000000100000010000...</td>\n",
       "      <td>00_0_</td>\n",
       "      <td>0</td>\n",
       "      <td>0</td>\n",
       "      <td>_</td>\n",
       "      <td>0</td>\n",
       "      <td>_</td>\n",
       "      <td>NaN</td>\n",
       "    </tr>\n",
       "    <tr>\n",
       "      <th>1</th>\n",
       "      <td>1</td>\n",
       "      <td>2</td>\n",
       "      <td>644510</td>\n",
       "      <td>InChI=1S/C23H23FN6O4/c24-18-4-2-15(3-5-18)11-3...</td>\n",
       "      <td>O=c1[nH]c2cc3c(cc2cc1CN(CCCO)Cc1nnnn1Cc1ccc(F)...</td>\n",
       "      <td>C1OC2=C(O1)C=C3C(=C2)C=C(C(=O)N3)CN(CCCO)CC4=N...</td>\n",
       "      <td>0000000000000000000000000001000000000000000000...</td>\n",
       "      <td>11___</td>\n",
       "      <td>1</td>\n",
       "      <td>1</td>\n",
       "      <td>_</td>\n",
       "      <td>_</td>\n",
       "      <td>_</td>\n",
       "      <td>NaN</td>\n",
       "    </tr>\n",
       "    <tr>\n",
       "      <th>2</th>\n",
       "      <td>2</td>\n",
       "      <td>3</td>\n",
       "      <td>1960010</td>\n",
       "      <td>InChI=1S/C17H18N2O3S2/c1-3-18-12-8-5-4-7-11(12...</td>\n",
       "      <td>CCN1C(=O)C(=C2SC(=S)N(CCCOC)C2=O)c2ccccc21</td>\n",
       "      <td>CCN1C2=CC=CC=C2/C(=C/3\\C(=O)N(C(=S)S3)CCCOC)/C1=O</td>\n",
       "      <td>0000100000000100000000000000000000100000000000...</td>\n",
       "      <td>1_1_0</td>\n",
       "      <td>1</td>\n",
       "      <td>_</td>\n",
       "      <td>1</td>\n",
       "      <td>_</td>\n",
       "      <td>0</td>\n",
       "      <td>NaN</td>\n",
       "    </tr>\n",
       "    <tr>\n",
       "      <th>3</th>\n",
       "      <td>3</td>\n",
       "      <td>4</td>\n",
       "      <td>644675</td>\n",
       "      <td>InChI=1S/C13H9NO5S3/c1-8(15)14(22(17,18)12-3-2...</td>\n",
       "      <td>CC(=O)N(c1ccc2oc(=O)sc2c1)S(=O)(=O)c1cccs1</td>\n",
       "      <td>CC(=O)N(C1=CC2=C(C=C1)OC(=O)S2)S(=O)(=O)C3=CC=CS3</td>\n",
       "      <td>0000000000000010000000000000000000000000000000...</td>\n",
       "      <td>11_10</td>\n",
       "      <td>1</td>\n",
       "      <td>1</td>\n",
       "      <td>_</td>\n",
       "      <td>1</td>\n",
       "      <td>0</td>\n",
       "      <td>NaN</td>\n",
       "    </tr>\n",
       "    <tr>\n",
       "      <th>4</th>\n",
       "      <td>4</td>\n",
       "      <td>5</td>\n",
       "      <td>644851</td>\n",
       "      <td>InChI=1S/C14H10ClN3/c15-12-9-5-4-8-11(12)14-16...</td>\n",
       "      <td>Clc1ccccc1-c1nc(-c2ccccc2)n[nH]1</td>\n",
       "      <td>C1=CC=C(C=C1)C2=NNC(=N2)C3=CC=CC=C3Cl</td>\n",
       "      <td>0100000000000000000000000000000000000000000000...</td>\n",
       "      <td>1_11_</td>\n",
       "      <td>1</td>\n",
       "      <td>_</td>\n",
       "      <td>1</td>\n",
       "      <td>1</td>\n",
       "      <td>_</td>\n",
       "      <td>NaN</td>\n",
       "    </tr>\n",
       "  </tbody>\n",
       "</table>\n",
       "</div>"
      ],
      "text/plain": [
       "   Unnamed: 0  PUBCHEM_RESULT_TAG  PUBCHEM_CID  \\\n",
       "0           0                   1      6602638   \n",
       "1           1                   2       644510   \n",
       "2           2                   3      1960010   \n",
       "3           3                   4       644675   \n",
       "4           4                   5       644851   \n",
       "\n",
       "                                               InChI  \\\n",
       "0  InChI=1S/C16H24ClN3O.ClH/c1-3-5-16(21)18-13-6-...   \n",
       "1  InChI=1S/C23H23FN6O4/c24-18-4-2-15(3-5-18)11-3...   \n",
       "2  InChI=1S/C17H18N2O3S2/c1-3-18-12-8-5-4-7-11(12...   \n",
       "3  InChI=1S/C13H9NO5S3/c1-8(15)14(22(17,18)12-3-2...   \n",
       "4  InChI=1S/C14H10ClN3/c15-12-9-5-4-8-11(12)14-16...   \n",
       "\n",
       "                                    canonical_SMILES  \\\n",
       "0             CCCC(=O)Nc1ccc(N2CCN(CC)CC2)c(Cl)c1.Cl   \n",
       "1  O=c1[nH]c2cc3c(cc2cc1CN(CCCO)Cc1nnnn1Cc1ccc(F)...   \n",
       "2         CCN1C(=O)C(=C2SC(=S)N(CCCOC)C2=O)c2ccccc21   \n",
       "3         CC(=O)N(c1ccc2oc(=O)sc2c1)S(=O)(=O)c1cccs1   \n",
       "4                   Clc1ccccc1-c1nc(-c2ccccc2)n[nH]1   \n",
       "\n",
       "                                     isomeric_SMILES  \\\n",
       "0          CCCC(=O)NC1=CC(=C(C=C1)N2CCN(CC2)CC)Cl.Cl   \n",
       "1  C1OC2=C(O1)C=C3C(=C2)C=C(C(=O)N3)CN(CCCO)CC4=N...   \n",
       "2  CCN1C2=CC=CC=C2/C(=C/3\\C(=O)N(C(=S)S3)CCCOC)/C1=O   \n",
       "3  CC(=O)N(C1=CC2=C(C=C1)OC(=O)S2)S(=O)(=O)C3=CC=CS3   \n",
       "4              C1=CC=C(C=C1)C2=NNC(=N2)C3=CC=CC=C3Cl   \n",
       "\n",
       "                                                ECFP  Label 1a2 3a4 2c9 2c19  \\\n",
       "0  0000000000000010000000000000000000100000010000...  00_0_   0   0   _    0   \n",
       "1  0000000000000000000000000001000000000000000000...  11___   1   1   _    _   \n",
       "2  0000100000000100000000000000000000100000000000...  1_1_0   1   _   1    _   \n",
       "3  0000000000000010000000000000000000000000000000...  11_10   1   1   _    1   \n",
       "4  0100000000000000000000000000000000000000000000...  1_11_   1   _   1    1   \n",
       "\n",
       "  2d6 onehot_label  \n",
       "0   _          NaN  \n",
       "1   _          NaN  \n",
       "2   0          NaN  \n",
       "3   0          NaN  \n",
       "4   _          NaN  "
      ]
     },
     "execution_count": 8,
     "metadata": {},
     "output_type": "execute_result"
    }
   ],
   "source": [
    "cyp_df.head()"
   ]
  },
  {
   "cell_type": "code",
   "execution_count": 9,
   "metadata": {},
   "outputs": [
    {
     "data": {
      "text/html": [
       "<div>\n",
       "<style scoped>\n",
       "    .dataframe tbody tr th:only-of-type {\n",
       "        vertical-align: middle;\n",
       "    }\n",
       "\n",
       "    .dataframe tbody tr th {\n",
       "        vertical-align: top;\n",
       "    }\n",
       "\n",
       "    .dataframe thead th {\n",
       "        text-align: right;\n",
       "    }\n",
       "</style>\n",
       "<table border=\"1\" class=\"dataframe\">\n",
       "  <thead>\n",
       "    <tr style=\"text-align: right;\">\n",
       "      <th></th>\n",
       "      <th>Unnamed: 0</th>\n",
       "      <th>DrugBank ID</th>\n",
       "      <th>SMILES</th>\n",
       "      <th>ECFP</th>\n",
       "    </tr>\n",
       "  </thead>\n",
       "  <tbody>\n",
       "    <tr>\n",
       "      <th>0</th>\n",
       "      <td>0</td>\n",
       "      <td>DB07361</td>\n",
       "      <td>ClC1=CC=CC(NC(=O)NC2=NC=C(CCNC3=NC=NC4=C3SC=C4...</td>\n",
       "      <td>0000000000000010000000000000000000000000000001...</td>\n",
       "    </tr>\n",
       "    <tr>\n",
       "      <th>1</th>\n",
       "      <td>1</td>\n",
       "      <td>DB13157</td>\n",
       "      <td>[Na+].CCCCCCCCCCCCOC(=O)CS([O-])(=O)=O</td>\n",
       "      <td>0000000000000100000000000000000000001000000000...</td>\n",
       "    </tr>\n",
       "    <tr>\n",
       "      <th>2</th>\n",
       "      <td>2</td>\n",
       "      <td>DB05577</td>\n",
       "      <td>OC(=O)CNC(=O)C1=C(O)C2=CC=CC=C2C(Cl)=N1</td>\n",
       "      <td>0000000000000000000000000000000000000000000000...</td>\n",
       "    </tr>\n",
       "    <tr>\n",
       "      <th>3</th>\n",
       "      <td>3</td>\n",
       "      <td>DB05667</td>\n",
       "      <td>CC(=O)N1CCN(CC1)C1=CC=C(OC[C@@H]2CO[C@](CN3C=C...</td>\n",
       "      <td>0000000000000000000000000000000000000100001000...</td>\n",
       "    </tr>\n",
       "    <tr>\n",
       "      <th>4</th>\n",
       "      <td>4</td>\n",
       "      <td>DB00104</td>\n",
       "      <td>[H][C@]1(NC(=O)[C@H](CCCCN)NC(=O)[C@@H](CC2=CN...</td>\n",
       "      <td>0100000000000000000000000000000010000000000000...</td>\n",
       "    </tr>\n",
       "  </tbody>\n",
       "</table>\n",
       "</div>"
      ],
      "text/plain": [
       "   Unnamed: 0 DrugBank ID                                             SMILES  \\\n",
       "0           0     DB07361  ClC1=CC=CC(NC(=O)NC2=NC=C(CCNC3=NC=NC4=C3SC=C4...   \n",
       "1           1     DB13157             [Na+].CCCCCCCCCCCCOC(=O)CS([O-])(=O)=O   \n",
       "2           2     DB05577            OC(=O)CNC(=O)C1=C(O)C2=CC=CC=C2C(Cl)=N1   \n",
       "3           3     DB05667  CC(=O)N1CCN(CC1)C1=CC=C(OC[C@@H]2CO[C@](CN3C=C...   \n",
       "4           4     DB00104  [H][C@]1(NC(=O)[C@H](CCCCN)NC(=O)[C@@H](CC2=CN...   \n",
       "\n",
       "                                                ECFP  \n",
       "0  0000000000000010000000000000000000000000000001...  \n",
       "1  0000000000000100000000000000000000001000000000...  \n",
       "2  0000000000000000000000000000000000000000000000...  \n",
       "3  0000000000000000000000000000000000000100001000...  \n",
       "4  0100000000000000000000000000000010000000000000...  "
      ]
     },
     "execution_count": 9,
     "metadata": {},
     "output_type": "execute_result"
    }
   ],
   "source": [
    "drugbank_df.head()"
   ]
  },
  {
   "cell_type": "markdown",
   "metadata": {},
   "source": [
    "### Generate ECFPs"
   ]
  },
  {
   "cell_type": "code",
   "execution_count": 12,
   "metadata": {},
   "outputs": [],
   "source": [
    "cyp_fps = list()\n",
    "for smiles in cyp_df[\"isomeric_SMILES\"]:\n",
    "    mol = Chem.MolFromSmiles(smiles)\n",
    "    fp = GetMorganFingerprintAsBitVect(mol, 4, nBits=2048)\n",
    "    cyp_fps.append(fp)"
   ]
  },
  {
   "cell_type": "code",
   "execution_count": 17,
   "metadata": {},
   "outputs": [],
   "source": [
    "drugbank_fps = list()\n",
    "for smiles in drugbank_df[\"SMILES\"]:\n",
    "    mol = Chem.MolFromSmiles(smiles)\n",
    "    fp = GetMorganFingerprintAsBitVect(mol, 4, nBits=2048)\n",
    "    drugbank_fps.append(fp)"
   ]
  },
  {
   "cell_type": "markdown",
   "metadata": {},
   "source": [
    "### Find the chemicals in DrugBank with a Tanimoto score higher than 0.85 to any chemicals in CYP450 dataset "
   ]
  },
  {
   "cell_type": "code",
   "execution_count": 19,
   "metadata": {},
   "outputs": [
    {
     "name": "stderr",
     "output_type": "stream",
     "text": [
      "100%|████████████████████████████████████████████████████████████████████████████| 17121/17121 [08:14<00:00, 34.61it/s]\n"
     ]
    }
   ],
   "source": [
    "db_rm_indices = list()\n",
    "for cyp_fp in tqdm(cyp_fps):\n",
    "    for i, db_fp in enumerate(drugbank_fps):\n",
    "        score = DataStructs.FingerprintSimilarity(cyp_fp, db_fp)\n",
    "        if score > 0.85:\n",
    "            db_rm_indices.append(i)"
   ]
  },
  {
   "cell_type": "markdown",
   "metadata": {},
   "source": [
    "### Remove similar chemicals"
   ]
  },
  {
   "cell_type": "code",
   "execution_count": 22,
   "metadata": {},
   "outputs": [],
   "source": [
    "db_rm_indices_set = set(db_rm_indices)"
   ]
  },
  {
   "cell_type": "code",
   "execution_count": 28,
   "metadata": {},
   "outputs": [],
   "source": [
    "filtered_drugbank = drugbank_df.drop(db_rm_indices_set)"
   ]
  },
  {
   "cell_type": "markdown",
   "metadata": {},
   "source": [
    "### Save the filtered dataset"
   ]
  },
  {
   "cell_type": "code",
   "execution_count": null,
   "metadata": {},
   "outputs": [],
   "source": [
    "filtered_drugbank.to_csv(\"../data/DrugBank_smiles_fp_fil.csv\")"
   ]
  }
 ],
 "metadata": {
  "kernelspec": {
   "display_name": "Python 3.6.9 64-bit ('playground': conda)",
   "language": "python",
   "name": "python36964bitplaygroundconda3a42ba2689cb4827a840ce2c3efb16bd"
  },
  "language_info": {
   "codemirror_mode": {
    "name": "ipython",
    "version": 3
   },
   "file_extension": ".py",
   "mimetype": "text/x-python",
   "name": "python",
   "nbconvert_exporter": "python",
   "pygments_lexer": "ipython3",
   "version": "3.6.9"
  }
 },
 "nbformat": 4,
 "nbformat_minor": 4
}
