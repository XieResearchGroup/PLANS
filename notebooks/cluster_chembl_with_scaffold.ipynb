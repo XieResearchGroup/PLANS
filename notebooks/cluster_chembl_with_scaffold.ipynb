{
 "cells": [
  {
   "cell_type": "code",
   "execution_count": 1,
   "metadata": {},
   "outputs": [],
   "source": [
    "import sys\n",
    "sys.path.append(\"..\")"
   ]
  },
  {
   "cell_type": "code",
   "execution_count": 119,
   "metadata": {},
   "outputs": [],
   "source": [
    "import os\n",
    "import h5py\n",
    "from random import sample\n",
    "\n",
    "from rdkit.Chem import MolFromSmiles\n",
    "from tqdm.notebook import tqdm\n",
    "import numpy as np\n",
    "import matplotlib.pyplot as plt\n",
    "\n",
    "from src.data_preprocessing.cyp450_scaffold_splitting import ScaffoldSplitter"
   ]
  },
  {
   "cell_type": "code",
   "execution_count": 47,
   "metadata": {},
   "outputs": [],
   "source": [
    "class MySplitter(ScaffoldSplitter):\n",
    "    \n",
    "    def get_clusters(self, fp_field, smiles_field):\n",
    "        # create dict of the form {scaffold_i: [idx1, idx....]}\n",
    "        all_scaffolds = {}\n",
    "        it = tqdm(\n",
    "            zip(self.dataset[fp_field], self.dataset[smiles_field]),\n",
    "            total=self.dataset[smiles_field].len(),\n",
    "            desc=\"Clustering\"\n",
    "        )\n",
    "        for fp, smiles in it:\n",
    "            if MolFromSmiles(smiles) is None:\n",
    "                continue\n",
    "            scaffold = self._generate_scaffold(smiles, include_chirality=True)\n",
    "            if scaffold not in all_scaffolds:\n",
    "                all_scaffolds[scaffold] = [[smiles, fp]]\n",
    "            else:\n",
    "                all_scaffolds[scaffold].append([smiles, fp])\n",
    "\n",
    "        return all_scaffolds"
   ]
  },
  {
   "cell_type": "code",
   "execution_count": 45,
   "metadata": {},
   "outputs": [],
   "source": [
    "chembl_h5f = h5py.File(os.path.join(\"..\", \"data\", \"ChEMBL24.hdf5\"), \"r\")"
   ]
  },
  {
   "cell_type": "code",
   "execution_count": 48,
   "metadata": {},
   "outputs": [
    {
     "data": {
      "application/vnd.jupyter.widget-view+json": {
       "model_id": "afc091dd74464c4ab2aca02fccc1e106",
       "version_major": 2,
       "version_minor": 0
      },
      "text/plain": [
       "HBox(children=(HTML(value='Clustering'), FloatProgress(value=0.0, max=1739165.0), HTML(value='')))"
      ]
     },
     "metadata": {},
     "output_type": "display_data"
    },
    {
     "name": "stdout",
     "output_type": "stream",
     "text": [
      "\n"
     ]
    }
   ],
   "source": [
    "splitter = MySplitter(chembl_h5f)\n",
    "\n",
    "all_scaffolds = splitter.get_clusters(\"ChEMBL/ECFP\", \"ChEMBL/SMILES\")"
   ]
  },
  {
   "cell_type": "code",
   "execution_count": 58,
   "metadata": {},
   "outputs": [],
   "source": [
    "chembl_h5f.close()"
   ]
  },
  {
   "cell_type": "code",
   "execution_count": 72,
   "metadata": {},
   "outputs": [
    {
     "data": {
      "application/vnd.jupyter.widget-view+json": {
       "model_id": "5ec7d4a6dfdb49f382f6bcf50748c29e",
       "version_major": 2,
       "version_minor": 0
      },
      "text/plain": [
       "HBox(children=(HTML(value='Write clusters'), FloatProgress(value=0.0, max=525093.0), HTML(value='')))"
      ]
     },
     "metadata": {},
     "output_type": "display_data"
    },
    {
     "name": "stdout",
     "output_type": "stream",
     "text": [
      "\n"
     ]
    }
   ],
   "source": [
    "clusters_h5f = h5py.File(os.path.join(\"..\", \"data\", \"ChEMBL24_scaffold_clusters.hdf5\"), \"w\")\n",
    "dt = h5py.string_dtype(encoding=\"utf-8\")\n",
    "it = tqdm(\n",
    "    enumerate(all_scaffolds.items()),\n",
    "    desc=\"Write clusters\",\n",
    "    total=len(all_scaffolds)\n",
    ")\n",
    "for i, [scaffold, data] in it:\n",
    "    grp = clusters_h5f.create_group(f\"cluster_{i}\")\n",
    "    grp.attrs.create(\"scaffold\", str(scaffold), dtype=dt)\n",
    "    grp.create_dataset(\"SMILES\", data=np.array([d[0] for d in data]).astype(bytes), dtype=dt)\n",
    "    grp.create_dataset(\"ECFP\", data=np.array([d[1] for d in data]), dtype=\"int8\")"
   ]
  },
  {
   "cell_type": "code",
   "execution_count": 74,
   "metadata": {},
   "outputs": [],
   "source": [
    "clusters_h5f.close()"
   ]
  },
  {
   "cell_type": "code",
   "execution_count": 75,
   "metadata": {},
   "outputs": [],
   "source": [
    "clusters_h5f = h5py.File(os.path.join(\"..\", \"data\", \"ChEMBL24_scaffold_clusters.hdf5\"), \"r\")"
   ]
  },
  {
   "cell_type": "code",
   "execution_count": 107,
   "metadata": {},
   "outputs": [
    {
     "data": {
      "application/vnd.jupyter.widget-view+json": {
       "model_id": "cc4ac8dbb9244283896cc10c1a6e9861",
       "version_major": 2,
       "version_minor": 0
      },
      "text/plain": [
       "HBox(children=(HTML(value=''), FloatProgress(value=0.0, max=525093.0), HTML(value='')))"
      ]
     },
     "metadata": {},
     "output_type": "display_data"
    },
    {
     "name": "stdout",
     "output_type": "stream",
     "text": [
      "\n"
     ]
    }
   ],
   "source": [
    "counter = [0] * 5\n",
    "for data in tqdm(clusters_h5f.values()):\n",
    "    l = data[\"SMILES\"].len()\n",
    "    if l == 1:\n",
    "        counter[0] += 1\n",
    "    elif 1 < l <= 5:\n",
    "        counter[1] += 1\n",
    "    elif 5 < l <= 10:\n",
    "        counter[2] += 1\n",
    "    elif 10 < l < 50:\n",
    "        counter[3] += 1\n",
    "    elif l >= 50:\n",
    "        counter[4] += 1\n",
    "    else:\n",
    "        print(data, \"have wrong length.\")"
   ]
  },
  {
   "cell_type": "code",
   "execution_count": 108,
   "metadata": {},
   "outputs": [
    {
     "name": "stdout",
     "output_type": "stream",
     "text": [
      "[340390, 133853, 26230, 22189, 2431]\n"
     ]
    }
   ],
   "source": [
    "print(counter)"
   ]
  },
  {
   "cell_type": "code",
   "execution_count": 109,
   "metadata": {},
   "outputs": [
    {
     "data": {
      "text/plain": [
       "<BarContainer object of 5 artists>"
      ]
     },
     "execution_count": 109,
     "metadata": {},
     "output_type": "execute_result"
    },
    {
     "data": {
      "image/png": "[encoded data removed]",
      "text/plain": [
       "<Figure size 432x288 with 1 Axes>"
      ]
     },
     "metadata": {
      "needs_background": "light"
     },
     "output_type": "display_data"
    }
   ],
   "source": [
    "plt.bar([\"1\", \"2-5\", \"6-10\", \"10-50\", \"50+\"], counter)"
   ]
  },
  {
   "cell_type": "code",
   "execution_count": 111,
   "metadata": {},
   "outputs": [
    {
     "data": {
      "application/vnd.jupyter.widget-view+json": {
       "model_id": "f39651e2fb694e0e853b9798e98effda",
       "version_major": 2,
       "version_minor": 0
      },
      "text/plain": [
       "HBox(children=(HTML(value=''), FloatProgress(value=0.0, max=525093.0), HTML(value='')))"
      ]
     },
     "metadata": {},
     "output_type": "display_data"
    },
    {
     "name": "stdout",
     "output_type": "stream",
     "text": [
      "\n",
      "[340390, 133853, 26230, 17146, 7474]\n"
     ]
    },
    {
     "data": {
      "text/plain": [
       "<BarContainer object of 5 artists>"
      ]
     },
     "execution_count": 111,
     "metadata": {},
     "output_type": "execute_result"
    },
    {
     "data": {
      "image/png": "[encoded data removed]",
      "text/plain": [
       "<Figure size 432x288 with 1 Axes>"
      ]
     },
     "metadata": {
      "needs_background": "light"
     },
     "output_type": "display_data"
    }
   ],
   "source": [
    "counter = [0] * 5\n",
    "for data in tqdm(clusters_h5f.values()):\n",
    "    l = data[\"SMILES\"].len()\n",
    "    if l == 1:\n",
    "        counter[0] += 1\n",
    "    elif 1 < l <= 5:\n",
    "        counter[1] += 1\n",
    "    elif 5 < l <= 10:\n",
    "        counter[2] += 1\n",
    "    elif 10 < l < 25:\n",
    "        counter[3] += 1\n",
    "    elif l >= 25:\n",
    "        counter[4] += 1\n",
    "    else:\n",
    "        print(data, \"have wrong length.\")\n",
    "print(counter)"
   ]
  },
  {
   "cell_type": "code",
   "execution_count": 118,
   "metadata": {},
   "outputs": [
    {
     "data": {
      "image/png": "[encoded data removed]",
      "text/plain": [
       "<Figure size 432x288 with 1 Axes>"
      ]
     },
     "metadata": {
      "needs_background": "light"
     },
     "output_type": "display_data"
    }
   ],
   "source": [
    "plt.bar([\"1\", \"2-5\", \"6-10\", \"10-25\", \"25+\"], counter)\n",
    "plt.xlabel(\"# compounds in clusters\")\n",
    "plt.ylabel(\"# clusters\")\n",
    "_ = plt.title(\"Cluster distribution\")\n",
    "plt.savefig(os.path.join(\"..\", \"data\", \"chembl24_scaffold_cluster_distribution.png\"))"
   ]
  },
  {
   "cell_type": "code",
   "execution_count": 152,
   "metadata": {},
   "outputs": [
    {
     "data": {
      "application/vnd.jupyter.widget-view+json": {
       "model_id": "809fb970965545858e4686cba9f20bfe",
       "version_major": 2,
       "version_minor": 0
      },
      "text/plain": [
       "HBox(children=(HTML(value='Sampling from clusters'), FloatProgress(value=0.0, max=525093.0), HTML(value='')))"
      ]
     },
     "metadata": {},
     "output_type": "display_data"
    },
    {
     "name": "stdout",
     "output_type": "stream",
     "text": [
      "\n"
     ]
    }
   ],
   "source": [
    "with h5py.File(os.path.join(\"..\", \"data\", \"ChEMBL24_scaffold_clusters_sampled.hdf5\"), \"w\") as f:\n",
    "    for key, data in tqdm(clusters_h5f.items(), total=525093, desc=\"Sampling from clusters\"):\n",
    "        grp = f.create_group(key)\n",
    "        if data[\"SMILES\"].len() <= 2:\n",
    "            grp.create_dataset(\"SMILES\", data=data[\"SMILES\"])\n",
    "            grp.create_dataset(\"ECFP\", data=data[\"ECFP\"])\n",
    "        else:\n",
    "            indices = sorted(sample(list(range(data[\"SMILES\"].len())), 2))\n",
    "            smiles = data[\"SMILES\"][indices]\n",
    "            ecfp = data[\"ECFP\"][indices]\n",
    "#             grp.create_dataset(\"SMILES\", data=smiles.astype(bytes), dtype=dt)\n",
    "            grp.create_dataset(\"SMILES\", data=smiles)\n",
    "            grp.create_dataset(\"ECFP\", data=ecfp, dtype=\"int8\")"
   ]
  },
  {
   "cell_type": "code",
   "execution_count": 154,
   "metadata": {},
   "outputs": [
    {
     "data": {
      "application/vnd.jupyter.widget-view+json": {
       "model_id": "39ae50ccb8ee44f595bdbdde460b87eb",
       "version_major": 2,
       "version_minor": 0
      },
      "text/plain": [
       "HBox(children=(HTML(value='Assert groups'), FloatProgress(value=0.0, max=525093.0), HTML(value='')))"
      ]
     },
     "metadata": {},
     "output_type": "display_data"
    },
    {
     "name": "stdout",
     "output_type": "stream",
     "text": [
      "\n"
     ]
    }
   ],
   "source": [
    "with h5py.File(os.path.join(\"..\", \"data\", \"ChEMBL24_scaffold_clusters_sampled.hdf5\"), \"r\") as f:\n",
    "    for data in tqdm(f.values(), total=525093, desc=\"Assert groups\"):\n",
    "        assert data[\"SMILES\"].len() == data[\"ECFP\"].len()\n",
    "        assert data[\"SMILES\"].len() <= 2, data[\"SMILES\"].len()"
   ]
  },
  {
   "cell_type": "code",
   "execution_count": null,
   "metadata": {},
   "outputs": [],
   "source": []
  }
 ],
 "metadata": {
  "kernelspec": {
   "display_name": "Python 3",
   "language": "python",
   "name": "python3"
  },
  "language_info": {
   "codemirror_mode": {
    "name": "ipython",
    "version": 3
   },
   "file_extension": ".py",
   "mimetype": "text/x-python",
   "name": "python",
   "nbconvert_exporter": "python",
   "pygments_lexer": "ipython3",
   "version": "3.7.7"
  }
 },
 "nbformat": 4,
 "nbformat_minor": 4
}
